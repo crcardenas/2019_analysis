{
 "cells": [
  {
   "cell_type": "code",
   "execution_count": 2,
   "metadata": {},
   "outputs": [
    {
     "name": "stdout",
     "output_type": "stream",
     "text": [
      "ipyparallelversion is 6.0.2\n",
      "MPI2 has 40 cores\n"
     ]
    }
   ],
   "source": [
    "import ipyparallel as ipp\n",
    "print 'ipyparallelversion is', ipp.__version__\n",
    "mpi2 = ipp.Client(profile=\"MPI2\")\n",
    "print 'MPI2 has',len(mpi2), 'cores'"
   ]
  },
  {
   "cell_type": "code",
   "execution_count": 3,
   "metadata": {},
   "outputs": [
    {
     "name": "stdout",
     "output_type": "stream",
     "text": [
      "0.7.28\n"
     ]
    }
   ],
   "source": [
    "#requires ipyrad\n",
    "import ipyrad as ip\n",
    "print ip.__version__"
   ]
  },
  {
   "cell_type": "markdown",
   "metadata": {},
   "source": [
    "# We are going to make a dataset of the T.zet samples an T.sp.n to compare\n",
    "BR samples are:<br>\n",
    "`CC269`<br>\n",
    "`CC270`<br>\n",
    "`CC271`<br>\n",
    "`CC272`<br>\n",
    "`CC273`<br>\n",
    "<br>\n",
    "LB samples are:<br>\n",
    "`CC268`<br>\n",
    "`CC191`<br>\n",
    "`CC226`<br>\n",
    "`CC154`<br>\n",
    "`CC178`<br>\n",
    "<br>"
   ]
  },
  {
   "cell_type": "code",
   "execution_count": 4,
   "metadata": {},
   "outputs": [
    {
     "name": "stdout",
     "output_type": "stream",
     "text": [
      "New Assembly: BR_LB\n",
      "0   assembly_name               BR_LB                                        \n",
      "1   project_dir                 ./                                           \n",
      "2   raw_fastq_path                                                           \n",
      "3   barcodes_path                                                            \n",
      "4   sorted_fastq_path                                                        \n",
      "5   assembly_method             denovo                                       \n",
      "6   reference_sequence                                                       \n",
      "7   datatype                    rad                                          \n",
      "8   restriction_overhang        ('TGCAG', '')                                \n",
      "9   max_low_qual_bases          5                                            \n",
      "10  phred_Qscore_offset         33                                           \n",
      "11  mindepth_statistical        6                                            \n",
      "12  mindepth_majrule            6                                            \n",
      "13  maxdepth                    10000                                        \n",
      "14  clust_threshold             0.85                                         \n",
      "15  max_barcode_mismatch        0                                            \n",
      "16  filter_adapters             0                                            \n",
      "17  filter_min_trim_len         35                                           \n",
      "18  max_alleles_consens         2                                            \n",
      "19  max_Ns_consens              (5, 5)                                       \n",
      "20  max_Hs_consens              (8, 8)                                       \n",
      "21  min_samples_locus           4                                            \n",
      "22  max_SNPs_locus              (20, 20)                                     \n",
      "23  max_Indels_locus            (8, 8)                                       \n",
      "24  max_shared_Hs_locus         0.5                                          \n",
      "25  trim_reads                  (0, 0, 0, 0)                                 \n",
      "26  trim_loci                   (0, 0, 0, 0)                                 \n",
      "27  output_formats              ['p', 's', 'v']                              \n",
      "28  pop_assign_file                                                          \n"
     ]
    }
   ],
   "source": [
    "BR_LB = ip.Assembly(\"BR_LB\")\n",
    "BR_LB.get_params()"
   ]
  },
  {
   "cell_type": "markdown",
   "metadata": {},
   "source": [
    "# parameters\n",
    "We are running without the genome, with a lower cluster threshold (80%), and minimum samples per loci (2). We will create a branch after step 1 to come back to these variables."
   ]
  },
  {
   "cell_type": "code",
   "execution_count": 5,
   "metadata": {},
   "outputs": [
    {
     "name": "stdout",
     "output_type": "stream",
     "text": [
      "0   assembly_name               BR_LB                                        \n",
      "1   project_dir                 /fs/project/adams.1970/cardenas.61/2019_analysis/BR_LB_dir\n",
      "2   raw_fastq_path                                                           \n",
      "3   barcodes_path                                                            \n",
      "4   sorted_fastq_path           /fs/project/adams.1970/cardenas.61/2019_analysis/BR_LB_samples/*.fastq.gz\n",
      "5   assembly_method             denovo                                       \n",
      "6   reference_sequence                                                       \n",
      "7   datatype                    pairddrad                                    \n",
      "8   restriction_overhang        ('TGCAG', 'CGG')                             \n",
      "9   max_low_qual_bases          5                                            \n",
      "10  phred_Qscore_offset         33                                           \n",
      "11  mindepth_statistical        6                                            \n",
      "12  mindepth_majrule            6                                            \n",
      "13  maxdepth                    10000                                        \n",
      "14  clust_threshold             0.8                                          \n",
      "15  max_barcode_mismatch        0                                            \n",
      "16  filter_adapters             2                                            \n",
      "17  filter_min_trim_len         50                                           \n",
      "18  max_alleles_consens         2                                            \n",
      "19  max_Ns_consens              (5, 5)                                       \n",
      "20  max_Hs_consens              (8, 8)                                       \n",
      "21  min_samples_locus           2                                            \n",
      "22  max_SNPs_locus              (20, 30)                                     \n",
      "23  max_Indels_locus            (8, 8)                                       \n",
      "24  max_shared_Hs_locus         0.5                                          \n",
      "25  trim_reads                  (0, 0, 0, 0)                                 \n",
      "26  trim_loci                   (0, 0, 0, 0)                                 \n",
      "27  output_formats              ['G', 'a', 'g', 'k', 'm', 'l', 'n', 'p', 's', 'u', 't', 'v']\n",
      "28  pop_assign_file                                                          \n"
     ]
    }
   ],
   "source": [
    "BR_LB.set_params('sorted_fastq_path', '/fs/project/adams.1970/cardenas.61/2019_analysis/BR_LB_samples/*.fastq.gz')\n",
    "BR_LB.set_params('project_dir', '/fs/project/adams.1970/cardenas.61/2019_analysis/BR_LB_dir') \n",
    "BR_LB.set_params('assembly_method', 'denovo')\n",
    "BR_LB.set_params('restriction_overhang', 'TGCAG, CGG')\n",
    "BR_LB.set_params('datatype', 'pairddrad')\n",
    "BR_LB.set_params('clust_threshold', '0.8')\n",
    "BR_LB.set_params('mindepth_statistical', '6')\n",
    "BR_LB.set_params('mindepth_majrule', '6')\n",
    "BR_LB.set_params('min_samples_locus', '2')\n",
    "BR_LB.set_params('filter_min_trim_len', '50')\n",
    "BR_LB.set_params('filter_adapters', '2')\n",
    "BR_LB.set_params('max_SNPs_locus', '20, 30')\n",
    "BR_LB.set_params('output_formats', '*')\n",
    "BR_LB.get_params()"
   ]
  },
  {
   "cell_type": "code",
   "execution_count": 6,
   "metadata": {},
   "outputs": [
    {
     "name": "stdout",
     "output_type": "stream",
     "text": [
      "0   assembly_name               BR_LB                                        \n",
      "1   project_dir                 /fs/project/adams.1970/cardenas.61/2019_analysis/BR_LB_dir\n",
      "2   raw_fastq_path                                                           \n",
      "3   barcodes_path                                                            \n",
      "4   sorted_fastq_path           /fs/project/adams.1970/cardenas.61/2019_analysis/BR_LB_samples/*.fastq.gz\n",
      "5   assembly_method             denovo                                       \n",
      "6   reference_sequence                                                       \n",
      "7   datatype                    pairddrad                                    \n",
      "8   restriction_overhang        ('TGCAG', 'CGG')                             \n",
      "9   max_low_qual_bases          5                                            \n",
      "10  phred_Qscore_offset         33                                           \n",
      "11  mindepth_statistical        6                                            \n",
      "12  mindepth_majrule            6                                            \n",
      "13  maxdepth                    10000                                        \n",
      "14  clust_threshold             0.8                                          \n",
      "15  max_barcode_mismatch        0                                            \n",
      "16  filter_adapters             2                                            \n",
      "17  filter_min_trim_len         50                                           \n",
      "18  max_alleles_consens         2                                            \n",
      "19  max_Ns_consens              (5, 5)                                       \n",
      "20  max_Hs_consens              (8, 8)                                       \n",
      "21  min_samples_locus           2                                            \n",
      "22  max_SNPs_locus              (20, 30)                                     \n",
      "23  max_Indels_locus            (8, 8)                                       \n",
      "24  max_shared_Hs_locus         0.5                                          \n",
      "25  trim_reads                  (0, 0, 0, 0)                                 \n",
      "26  trim_loci                   (0, 0, 0, 0)                                 \n",
      "27  output_formats              ['G', 'a', 'g', 'k', 'm', 'l', 'n', 'p', 's', 'u', 't', 'v']\n",
      "28  pop_assign_file                                                          \n"
     ]
    }
   ],
   "source": [
    "BR_LB.get_params()"
   ]
  },
  {
   "cell_type": "code",
   "execution_count": 7,
   "metadata": {},
   "outputs": [
    {
     "name": "stdout",
     "output_type": "stream",
     "text": [
      "Assembly: BR_LB\n",
      "[####################] 100%  loading reads         | 0:00:07 | s1 | \n"
     ]
    }
   ],
   "source": [
    "BR_LB.run(\"1\",ipyclient=mpi2)"
   ]
  },
  {
   "cell_type": "markdown",
   "metadata": {},
   "source": [
    "## set up branches"
   ]
  },
  {
   "cell_type": "code",
   "execution_count": 9,
   "metadata": {},
   "outputs": [],
   "source": [
    "#key branch is branch1\n",
    "branch1 = BR_LB.branch(\"branch1\")\n",
    "\n",
    "#branch here so we can test different cluster threshholds\n",
    "clust80 = branch1.branch(\"clust80\")\n",
    "clust85 = branch1.branch(\"clust85\")\n",
    "clust90 = branch1.branch(\"clust90\")\n",
    "\n",
    "#we will then branch again so we can test using a refrence \n",
    "reference = branch1.branch(\"reference\")\n",
    "\n",
    "#again for different clustering threshholds\n",
    "branch_reference = reference.branch(\"branch_reference\") #key branch\n",
    "\n",
    "reference_clust80 = branch_reference.branch(\"reference_clust80\")\n",
    "reference_clust85 = branch_reference.branch(\"reference_clust85\")\n",
    "reference_clust90 = branch_reference.branch(\"reference_clust90\")\n",
    "\n"
   ]
  },
  {
   "cell_type": "markdown",
   "metadata": {},
   "source": [
    "## set up parameters for these branches"
   ]
  },
  {
   "cell_type": "code",
   "execution_count": 15,
   "metadata": {},
   "outputs": [],
   "source": [
    "clust80.set_params('clust_threshold', '0.80')\n",
    "clust85.set_params('clust_threshold', '0.85')\n",
    "clust90.set_params('clust_threshold', '0.90')\n",
    "\n",
    "reference.set_params('assembly_method', 'denovo+reference')\n",
    "reference.set_params('reference_sequence', '/fs/project/adams.1970/cardenas.61/2019_analysis/Tzet_genomic.fna')\n",
    "\n",
    "reference_clust80.set_params('clust_threshold', '0.80')\n",
    "reference_clust85.set_params('clust_threshold', '0.85')\n",
    "reference_clust90.set_params('clust_threshold', '0.90')"
   ]
  },
  {
   "cell_type": "markdown",
   "metadata": {},
   "source": [
    "#### Check parameters clust80"
   ]
  },
  {
   "cell_type": "code",
   "execution_count": 14,
   "metadata": {},
   "outputs": [
    {
     "name": "stdout",
     "output_type": "stream",
     "text": [
      "0   assembly_name               clust80                                      \n",
      "1   project_dir                 /fs/project/adams.1970/cardenas.61/2019_analysis/BR_LB_dir\n",
      "2   raw_fastq_path                                                           \n",
      "3   barcodes_path                                                            \n",
      "4   sorted_fastq_path           /fs/project/adams.1970/cardenas.61/2019_analysis/BR_LB_samples/*.fastq.gz\n",
      "5   assembly_method             denovo                                       \n",
      "6   reference_sequence                                                       \n",
      "7   datatype                    pairddrad                                    \n",
      "8   restriction_overhang        ('TGCAG', 'CGG')                             \n",
      "9   max_low_qual_bases          5                                            \n",
      "10  phred_Qscore_offset         33                                           \n",
      "11  mindepth_statistical        6                                            \n",
      "12  mindepth_majrule            6                                            \n",
      "13  maxdepth                    10000                                        \n",
      "14  clust_threshold             0.8                                          \n",
      "15  max_barcode_mismatch        0                                            \n",
      "16  filter_adapters             2                                            \n",
      "17  filter_min_trim_len         50                                           \n",
      "18  max_alleles_consens         2                                            \n",
      "19  max_Ns_consens              (5, 5)                                       \n",
      "20  max_Hs_consens              (8, 8)                                       \n",
      "21  min_samples_locus           2                                            \n",
      "22  max_SNPs_locus              (20, 30)                                     \n",
      "23  max_Indels_locus            (8, 8)                                       \n",
      "24  max_shared_Hs_locus         0.5                                          \n",
      "25  trim_reads                  (0, 0, 0, 0)                                 \n",
      "26  trim_loci                   (0, 0, 0, 0)                                 \n",
      "27  output_formats              ['G', 'a', 'g', 'k', 'm', 'l', 'n', 'p', 's', 'u', 't', 'v']\n",
      "28  pop_assign_file                                                          \n"
     ]
    }
   ],
   "source": [
    "clust80.get_params()"
   ]
  },
  {
   "cell_type": "markdown",
   "metadata": {},
   "source": [
    "#### Check parameters clust85"
   ]
  },
  {
   "cell_type": "code",
   "execution_count": 16,
   "metadata": {},
   "outputs": [
    {
     "name": "stdout",
     "output_type": "stream",
     "text": [
      "0   assembly_name               clust85                                      \n",
      "1   project_dir                 /fs/project/adams.1970/cardenas.61/2019_analysis/BR_LB_dir\n",
      "2   raw_fastq_path                                                           \n",
      "3   barcodes_path                                                            \n",
      "4   sorted_fastq_path           /fs/project/adams.1970/cardenas.61/2019_analysis/BR_LB_samples/*.fastq.gz\n",
      "5   assembly_method             denovo                                       \n",
      "6   reference_sequence                                                       \n",
      "7   datatype                    pairddrad                                    \n",
      "8   restriction_overhang        ('TGCAG', 'CGG')                             \n",
      "9   max_low_qual_bases          5                                            \n",
      "10  phred_Qscore_offset         33                                           \n",
      "11  mindepth_statistical        6                                            \n",
      "12  mindepth_majrule            6                                            \n",
      "13  maxdepth                    10000                                        \n",
      "14  clust_threshold             0.85                                         \n",
      "15  max_barcode_mismatch        0                                            \n",
      "16  filter_adapters             2                                            \n",
      "17  filter_min_trim_len         50                                           \n",
      "18  max_alleles_consens         2                                            \n",
      "19  max_Ns_consens              (5, 5)                                       \n",
      "20  max_Hs_consens              (8, 8)                                       \n",
      "21  min_samples_locus           2                                            \n",
      "22  max_SNPs_locus              (20, 30)                                     \n",
      "23  max_Indels_locus            (8, 8)                                       \n",
      "24  max_shared_Hs_locus         0.5                                          \n",
      "25  trim_reads                  (0, 0, 0, 0)                                 \n",
      "26  trim_loci                   (0, 0, 0, 0)                                 \n",
      "27  output_formats              ['G', 'a', 'g', 'k', 'm', 'l', 'n', 'p', 's', 'u', 't', 'v']\n",
      "28  pop_assign_file                                                          \n"
     ]
    }
   ],
   "source": [
    "clust85.get_params()"
   ]
  },
  {
   "cell_type": "markdown",
   "metadata": {},
   "source": [
    "#### Check parameters clust90"
   ]
  },
  {
   "cell_type": "code",
   "execution_count": 17,
   "metadata": {},
   "outputs": [
    {
     "name": "stdout",
     "output_type": "stream",
     "text": [
      "0   assembly_name               clust90                                      \n",
      "1   project_dir                 /fs/project/adams.1970/cardenas.61/2019_analysis/BR_LB_dir\n",
      "2   raw_fastq_path                                                           \n",
      "3   barcodes_path                                                            \n",
      "4   sorted_fastq_path           /fs/project/adams.1970/cardenas.61/2019_analysis/BR_LB_samples/*.fastq.gz\n",
      "5   assembly_method             denovo                                       \n",
      "6   reference_sequence                                                       \n",
      "7   datatype                    pairddrad                                    \n",
      "8   restriction_overhang        ('TGCAG', 'CGG')                             \n",
      "9   max_low_qual_bases          5                                            \n",
      "10  phred_Qscore_offset         33                                           \n",
      "11  mindepth_statistical        6                                            \n",
      "12  mindepth_majrule            6                                            \n",
      "13  maxdepth                    10000                                        \n",
      "14  clust_threshold             0.9                                          \n",
      "15  max_barcode_mismatch        0                                            \n",
      "16  filter_adapters             2                                            \n",
      "17  filter_min_trim_len         50                                           \n",
      "18  max_alleles_consens         2                                            \n",
      "19  max_Ns_consens              (5, 5)                                       \n",
      "20  max_Hs_consens              (8, 8)                                       \n",
      "21  min_samples_locus           2                                            \n",
      "22  max_SNPs_locus              (20, 30)                                     \n",
      "23  max_Indels_locus            (8, 8)                                       \n",
      "24  max_shared_Hs_locus         0.5                                          \n",
      "25  trim_reads                  (0, 0, 0, 0)                                 \n",
      "26  trim_loci                   (0, 0, 0, 0)                                 \n",
      "27  output_formats              ['G', 'a', 'g', 'k', 'm', 'l', 'n', 'p', 's', 'u', 't', 'v']\n",
      "28  pop_assign_file                                                          \n"
     ]
    }
   ],
   "source": [
    "clust90.get_params()"
   ]
  },
  {
   "cell_type": "markdown",
   "metadata": {},
   "source": [
    "#### Check Parameters reference"
   ]
  },
  {
   "cell_type": "code",
   "execution_count": 18,
   "metadata": {},
   "outputs": [
    {
     "name": "stdout",
     "output_type": "stream",
     "text": [
      "0   assembly_name               reference                                    \n",
      "1   project_dir                 /fs/project/adams.1970/cardenas.61/2019_analysis/BR_LB_dir\n",
      "2   raw_fastq_path                                                           \n",
      "3   barcodes_path                                                            \n",
      "4   sorted_fastq_path           /fs/project/adams.1970/cardenas.61/2019_analysis/BR_LB_samples/*.fastq.gz\n",
      "5   assembly_method             denovo+reference                             \n",
      "6   reference_sequence          /fs/project/adams.1970/cardenas.61/2019_analysis/Tzet_genomic.fna\n",
      "7   datatype                    pairddrad                                    \n",
      "8   restriction_overhang        ('TGCAG', 'CGG')                             \n",
      "9   max_low_qual_bases          5                                            \n",
      "10  phred_Qscore_offset         33                                           \n",
      "11  mindepth_statistical        6                                            \n",
      "12  mindepth_majrule            6                                            \n",
      "13  maxdepth                    10000                                        \n",
      "14  clust_threshold             0.8                                          \n",
      "15  max_barcode_mismatch        0                                            \n",
      "16  filter_adapters             2                                            \n",
      "17  filter_min_trim_len         50                                           \n",
      "18  max_alleles_consens         2                                            \n",
      "19  max_Ns_consens              (5, 5)                                       \n",
      "20  max_Hs_consens              (8, 8)                                       \n",
      "21  min_samples_locus           2                                            \n",
      "22  max_SNPs_locus              (20, 30)                                     \n",
      "23  max_Indels_locus            (8, 8)                                       \n",
      "24  max_shared_Hs_locus         0.5                                          \n",
      "25  trim_reads                  (0, 0, 0, 0)                                 \n",
      "26  trim_loci                   (0, 0, 0, 0)                                 \n",
      "27  output_formats              ['G', 'a', 'g', 'k', 'm', 'l', 'n', 'p', 's', 'u', 't', 'v']\n",
      "28  pop_assign_file                                                          \n"
     ]
    }
   ],
   "source": [
    "reference.get_params()"
   ]
  },
  {
   "cell_type": "markdown",
   "metadata": {
    "collapsed": true
   },
   "source": [
    "#### Check parameters reference_clust80"
   ]
  },
  {
   "cell_type": "code",
   "execution_count": 19,
   "metadata": {},
   "outputs": [
    {
     "name": "stdout",
     "output_type": "stream",
     "text": [
      "0   assembly_name               reference_clust80                            \n",
      "1   project_dir                 /fs/project/adams.1970/cardenas.61/2019_analysis/BR_LB_dir\n",
      "2   raw_fastq_path                                                           \n",
      "3   barcodes_path                                                            \n",
      "4   sorted_fastq_path           /fs/project/adams.1970/cardenas.61/2019_analysis/BR_LB_samples/*.fastq.gz\n",
      "5   assembly_method             denovo                                       \n",
      "6   reference_sequence                                                       \n",
      "7   datatype                    pairddrad                                    \n",
      "8   restriction_overhang        ('TGCAG', 'CGG')                             \n",
      "9   max_low_qual_bases          5                                            \n",
      "10  phred_Qscore_offset         33                                           \n",
      "11  mindepth_statistical        6                                            \n",
      "12  mindepth_majrule            6                                            \n",
      "13  maxdepth                    10000                                        \n",
      "14  clust_threshold             0.8                                          \n",
      "15  max_barcode_mismatch        0                                            \n",
      "16  filter_adapters             2                                            \n",
      "17  filter_min_trim_len         50                                           \n",
      "18  max_alleles_consens         2                                            \n",
      "19  max_Ns_consens              (5, 5)                                       \n",
      "20  max_Hs_consens              (8, 8)                                       \n",
      "21  min_samples_locus           2                                            \n",
      "22  max_SNPs_locus              (20, 30)                                     \n",
      "23  max_Indels_locus            (8, 8)                                       \n",
      "24  max_shared_Hs_locus         0.5                                          \n",
      "25  trim_reads                  (0, 0, 0, 0)                                 \n",
      "26  trim_loci                   (0, 0, 0, 0)                                 \n",
      "27  output_formats              ['G', 'a', 'g', 'k', 'm', 'l', 'n', 'p', 's', 'u', 't', 'v']\n",
      "28  pop_assign_file                                                          \n"
     ]
    }
   ],
   "source": [
    "reference_clust80.get_params()"
   ]
  },
  {
   "cell_type": "markdown",
   "metadata": {
    "collapsed": true
   },
   "source": [
    "#### Check parameters reference_clust85"
   ]
  },
  {
   "cell_type": "code",
   "execution_count": 20,
   "metadata": {},
   "outputs": [
    {
     "name": "stdout",
     "output_type": "stream",
     "text": [
      "0   assembly_name               reference_clust85                            \n",
      "1   project_dir                 /fs/project/adams.1970/cardenas.61/2019_analysis/BR_LB_dir\n",
      "2   raw_fastq_path                                                           \n",
      "3   barcodes_path                                                            \n",
      "4   sorted_fastq_path           /fs/project/adams.1970/cardenas.61/2019_analysis/BR_LB_samples/*.fastq.gz\n",
      "5   assembly_method             denovo                                       \n",
      "6   reference_sequence                                                       \n",
      "7   datatype                    pairddrad                                    \n",
      "8   restriction_overhang        ('TGCAG', 'CGG')                             \n",
      "9   max_low_qual_bases          5                                            \n",
      "10  phred_Qscore_offset         33                                           \n",
      "11  mindepth_statistical        6                                            \n",
      "12  mindepth_majrule            6                                            \n",
      "13  maxdepth                    10000                                        \n",
      "14  clust_threshold             0.85                                         \n",
      "15  max_barcode_mismatch        0                                            \n",
      "16  filter_adapters             2                                            \n",
      "17  filter_min_trim_len         50                                           \n",
      "18  max_alleles_consens         2                                            \n",
      "19  max_Ns_consens              (5, 5)                                       \n",
      "20  max_Hs_consens              (8, 8)                                       \n",
      "21  min_samples_locus           2                                            \n",
      "22  max_SNPs_locus              (20, 30)                                     \n",
      "23  max_Indels_locus            (8, 8)                                       \n",
      "24  max_shared_Hs_locus         0.5                                          \n",
      "25  trim_reads                  (0, 0, 0, 0)                                 \n",
      "26  trim_loci                   (0, 0, 0, 0)                                 \n",
      "27  output_formats              ['G', 'a', 'g', 'k', 'm', 'l', 'n', 'p', 's', 'u', 't', 'v']\n",
      "28  pop_assign_file                                                          \n"
     ]
    }
   ],
   "source": [
    "reference_clust85.get_params()"
   ]
  },
  {
   "cell_type": "markdown",
   "metadata": {
    "collapsed": true
   },
   "source": [
    "#### Check parameters reference_clust90"
   ]
  },
  {
   "cell_type": "code",
   "execution_count": 21,
   "metadata": {},
   "outputs": [
    {
     "name": "stdout",
     "output_type": "stream",
     "text": [
      "0   assembly_name               reference_clust90                            \n",
      "1   project_dir                 /fs/project/adams.1970/cardenas.61/2019_analysis/BR_LB_dir\n",
      "2   raw_fastq_path                                                           \n",
      "3   barcodes_path                                                            \n",
      "4   sorted_fastq_path           /fs/project/adams.1970/cardenas.61/2019_analysis/BR_LB_samples/*.fastq.gz\n",
      "5   assembly_method             denovo                                       \n",
      "6   reference_sequence                                                       \n",
      "7   datatype                    pairddrad                                    \n",
      "8   restriction_overhang        ('TGCAG', 'CGG')                             \n",
      "9   max_low_qual_bases          5                                            \n",
      "10  phred_Qscore_offset         33                                           \n",
      "11  mindepth_statistical        6                                            \n",
      "12  mindepth_majrule            6                                            \n",
      "13  maxdepth                    10000                                        \n",
      "14  clust_threshold             0.9                                          \n",
      "15  max_barcode_mismatch        0                                            \n",
      "16  filter_adapters             2                                            \n",
      "17  filter_min_trim_len         50                                           \n",
      "18  max_alleles_consens         2                                            \n",
      "19  max_Ns_consens              (5, 5)                                       \n",
      "20  max_Hs_consens              (8, 8)                                       \n",
      "21  min_samples_locus           2                                            \n",
      "22  max_SNPs_locus              (20, 30)                                     \n",
      "23  max_Indels_locus            (8, 8)                                       \n",
      "24  max_shared_Hs_locus         0.5                                          \n",
      "25  trim_reads                  (0, 0, 0, 0)                                 \n",
      "26  trim_loci                   (0, 0, 0, 0)                                 \n",
      "27  output_formats              ['G', 'a', 'g', 'k', 'm', 'l', 'n', 'p', 's', 'u', 't', 'v']\n",
      "28  pop_assign_file                                                          \n"
     ]
    }
   ],
   "source": [
    "reference_clust90.get_params()"
   ]
  },
  {
   "cell_type": "markdown",
   "metadata": {},
   "source": [
    "### run up to step 6 where we were having our issues on our original dataset BR_LB"
   ]
  },
  {
   "cell_type": "code",
   "execution_count": 22,
   "metadata": {},
   "outputs": [
    {
     "name": "stdout",
     "output_type": "stream",
     "text": [
      "Assembly: BR_LB\n",
      "[####################] 100%  processing reads      | 0:02:10 | s2 | \n",
      "[####################] 100%  dereplicating         | 0:01:04 | s3 | \n",
      "[####################] 100%  clustering            | 0:08:02 | s3 | \n",
      "[####################] 100%  building clusters     | 0:00:35 | s3 | \n",
      "[####################] 100%  chunking              | 0:00:02 | s3 | \n",
      "[####################] 100%  aligning              | 0:16:01 | s3 | \n",
      "[####################] 100%  concatenating         | 0:00:21 | s3 | \n",
      "[####################] 100%  inferring [H, E]      | 0:00:55 | s4 | \n",
      "[####################] 100%  calculating depths    | 0:00:02 | s5 | \n",
      "[####################] 100%  chunking clusters     | 0:00:02 | s5 | \n",
      "[####################] 100%  consens calling       | 0:00:47 | s5 | \n"
     ]
    }
   ],
   "source": [
    "BR_LB.run(\"2345\",ipyclient=mpi2)"
   ]
  },
  {
   "cell_type": "code",
   "execution_count": null,
   "metadata": {},
   "outputs": [
    {
     "name": "stdout",
     "output_type": "stream",
     "text": [
      "Assembly: BR_LB\n",
      "[####################] 100%  concat/shuffle input  | 0:00:01 | s6 | \n",
      "[####################] 100%  clustering across     | 0:00:07 | s6 | \n",
      "[####################] 100%  building clusters     | 0:00:01 | s6 | \n",
      "[                    ]   0%  aligning clusters     | 2:00:36 | s6 | \n",
      "  Keyboard Interrupt by user\n",
      "\n",
      "warning: ipcluster shutdown and must be restarted\n"
     ]
    }
   ],
   "source": [
    "BR_LB.run(\"6\",ipyclient=mpi2)"
   ]
  }
 ],
 "metadata": {
  "kernelspec": {
   "display_name": "Python 2",
   "language": "python",
   "name": "python2"
  },
  "language_info": {
   "codemirror_mode": {
    "name": "ipython",
    "version": 2
   },
   "file_extension": ".py",
   "mimetype": "text/x-python",
   "name": "python",
   "nbconvert_exporter": "python",
   "pygments_lexer": "ipython2",
   "version": "2.7.13"
  }
 },
 "nbformat": 4,
 "nbformat_minor": 2
}
