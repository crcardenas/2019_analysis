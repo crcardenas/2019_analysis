{
 "cells": [
  {
   "cell_type": "markdown",
   "metadata": {},
   "source": [
    "# Thesis Pipeline\n",
    "This pipeline is modeled after:\n",
    "1. [Carol Rowe's Allenrolfea analysis](https://digitalcommons.usu.edu/all_datasets/39/)\n",
    "2. [emprical ipyrad API pedicularis](https://nbviewer.jupyter.org/github/dereneaton/ipyrad/blob/master/tests/cookbook-empirical-API-1-pedicularis.ipynb)\n",
    "3. see Grundwald Lab [Poppr analysis](http://grunwaldlab.github.io/Population_Genetics_in_R/index.html) tutorial on github\n",
    "<br>\n",
    "<br>\n",
    "*to be updated with further population analysis as well* <br>\n"
   ]
  },
  {
   "cell_type": "code",
   "execution_count": null,
   "metadata": {
    "collapsed": true
   },
   "outputs": [],
   "source": [
    "#required modules/programs/packages\n",
    "#seaborn\n",
    "#pandas\n",
    "#numpy\n",
    "#ipyparallel\n",
    "#ipyrad"
   ]
  },
  {
   "cell_type": "markdown",
   "metadata": {},
   "source": [
    "**Check `ipcluster` instance with a profile**<br>\n",
    "First we need to check our paralization"
   ]
  },
  {
   "cell_type": "code",
   "execution_count": 21,
   "metadata": {},
   "outputs": [
    {
     "name": "stdout",
     "output_type": "stream",
     "text": [
      "ipyparallel version is 6.0.2\n",
      "mpi1 has 15 cores\n"
     ]
    },
    {
     "data": {
      "text/plain": [
       "[0, 1, 2, 3, 4, 5, 6, 7, 8, 9, 10, 11, 12, 13, 14]"
      ]
     },
     "execution_count": 21,
     "metadata": {},
     "output_type": "execute_result"
    }
   ],
   "source": [
    "import ipyparallel as ipp\n",
    "print 'ipyparallel version is', ipp.__version__\n",
    "mpi1 = ipp.Client(profile=\"MPI1\")\n",
    "print 'mpi1 has',len(mpi1), 'cores'\n",
    "mpi1.ids #this has the same effect as `len(mpi1)`; \n",
    "#take note python counting starts at zero!"
   ]
  },
  {
   "cell_type": "markdown",
   "metadata": {},
   "source": [
    "### *ipyrad*\n",
    "The only library we need to import is *ipyrad*. The import command is usually the first code called in a Python document to load any necessary packages. In the code below, we use a convenient trick in Python to tell it that we want to refer to ipyrad simply as ip. This saves us a little space since we might type the name many times. Below that, we use the print statement to print the version number of *ipyrad*. This is good practice to keep a record of which software version we are using. <br>\n",
    "<br>\n",
    "This guide and markdown is straight from the [*ipyrad* API user guide](https://ipyrad.readthedocs.io/API_user-guide.html) but will be using 2019_thesis data."
   ]
  },
  {
   "cell_type": "code",
   "execution_count": 7,
   "metadata": {},
   "outputs": [
    {
     "name": "stdout",
     "output_type": "stream",
     "text": [
      "0.7.28\n"
     ]
    }
   ],
   "source": [
    "#requires ipyrad\n",
    "import ipyrad as ip\n",
    "print ip.__version__"
   ]
  },
  {
   "cell_type": "markdown",
   "metadata": {},
   "source": [
    "# IPYRAD FIRST STEPS\n",
    "[turn this from markdown to code and delete this bracketed section]\n",
    "#runs steps 1, merges, and then runs step 2\n",
    "lib1i06 = ip.Assembly(\"lib1i06\")\n",
    "lib1i06.set_params('project_dir', './') \n",
    "lib1i06.set_params('raw_fastq_path', './raw/lib1i06.fq.gz /*.gz') \n",
    "lib1i06.set_params('barcodes_path', './barcodes/lib1i06.txt') \n",
    "lib1i06.set_params('assembly_method', 'denovo+refrence')\n",
    "lib1i06.set_params('refrence_sequence', 'Tzet_genomic.fna')\n",
    "lib1i06.set_params('datatype', 'ddrad')\n",
    "lib1i06.set_params('restriction_overhang', 'TGCAG, CGG') \n",
    "lib1i06.set_params('clust_threshold', '0.9')\n",
    "lib1i06.set_params('mindepth_statistical', '6')\n",
    "lib1i06.set_params('mindepth_majrule', '6')\n",
    "lib1i06.set_params('filter_adapters', '1')\n",
    "lib1i06.set_params('max_SNPs_locus', '20, 30')\n",
    "lib1i06.set_params('output_formats', '*')\n",
    "lib1i06.run(\"1\")\n",
    "\n",
    "lib1i12 = ip.Assembly(\"lib1i12\")\n",
    "lib1i12.set_params('project_dir', './') \n",
    "lib1i12.set_params('raw_fastq_path', './raw/lib1i12.fq.gz.gz') \n",
    "lib1i12.set_params('barcodes_path', './barcodes/lib1i12.txt') \n",
    "lib1i12.set_params('assembly_method', 'denovo+refrence')\n",
    "lib1i12.set_params('refrence_sequence', 'Tzet_genomic.fna')\n",
    "lib1i12.set_params('datatype', 'ddrad')\n",
    "lib1i12.set_params('restriction_overhang', 'TGCAG, CGG') \n",
    "lib1i12.set_params('clust_threshold', '0.9')\n",
    "lib1i12.set_params('mindepth_statistical', '6')\n",
    "lib1i12.set_params('mindepth_majrule', '6')\n",
    "lib1i12.set_params('filter_adapters', '1')\n",
    "lib1i12.set_params('max_SNPs_locus', '20, 30')\n",
    "lib1i12.set_params('output_formats', '*')\n",
    "lib1i12.run(\"1\")\n",
    "\n",
    "lib1i03 = ip.Assembly(\"lib1i03\")\n",
    "lib1i03.set_params('project_dir', './') \n",
    "lib1i03.set_params('raw_fastq_path', './raw/lib1i03.fq.gz.gz') \n",
    "lib1i03.set_params('barcodes_path', './barcodes/lib1i03.txt') \n",
    "lib1i03.set_params('assembly_method', 'denovo+refrence')\n",
    "lib1i03.set_params('refrence_sequence', 'Tzet_genomic.fna')\n",
    "lib1i03.set_params('datatype', 'ddrad')\n",
    "lib1i03.set_params('restriction_overhang', 'TGCAG, CGG') \n",
    "lib1i03.set_params('clust_threshold', '0.9')\n",
    "lib1i03.set_params('mindepth_statistical', '6')\n",
    "lib1i03.set_params('mindepth_majrule', '6')\n",
    "lib1i03.set_params('filter_adapters', '1')\n",
    "lib1i03.set_params('max_SNPs_locus', '20, 30')\n",
    "lib1i03.set_params('output_formats', '*')\n",
    "lib1i03.run(\"1\")\n",
    "\n",
    "lib1i04 = ip.Assembly(\"lib1i04\")\n",
    "lib1i04.set_params('project_dir', './') \n",
    "lib1i04.set_params('raw_fastq_path', './raw/lib1i04.fq.gz.gz') \n",
    "lib1i04.set_params('barcodes_path', './barcodes/lib1i04.txt') \n",
    "lib1i04.set_params('assembly_method', 'denovo+refrence')\n",
    "lib1i04.set_params('refrence_sequence', 'Tzet_genomic.fna')\n",
    "lib1i04.set_params('datatype', 'ddrad')\n",
    "lib1i04.set_params('restriction_overhang', 'TGCAG, CGG') \n",
    "lib1i04.set_params('clust_threshold', '0.9')\n",
    "lib1i04.set_params('mindepth_statistical', '6')\n",
    "lib1i04.set_params('mindepth_majrule', '6')\n",
    "lib1i04.set_params('filter_adapters', '1')\n",
    "lib1i04.set_params('max_SNPs_locus', '20, 30')\n",
    "lib1i04.set_params('output_formats', '*')\n",
    "lib1i04.run(\"1\")\n",
    "\n",
    "lib1i05 = ip.Assembly(\"lib1i05\")\n",
    "lib1i05.set_params('project_dir', './') \n",
    "lib1i05.set_params('raw_fastq_path', './raw/lib1i05.fq.gz.gz') \n",
    "lib1i05.set_params('barcodes_path', './barcodes/lib1i05.txt') \n",
    "lib1i05.set_params('assembly_method', 'denovo+refrence')\n",
    "lib1i05.set_params('refrence_sequence', 'Tzet_genomic.fna')\n",
    "lib1i05.set_params('datatype', 'ddrad')\n",
    "lib1i05.set_params('restriction_overhang', 'TGCAG, CGG') \n",
    "lib1i05.set_params('clust_threshold', '0.9')\n",
    "lib1i05.set_params('mindepth_statistical', '6')\n",
    "lib1i05.set_params('mindepth_majrule', '6')\n",
    "lib1i05.set_params('filter_adapters', '1')\n",
    "lib1i05.set_params('max_SNPs_locus', '20, 30')\n",
    "lib1i05.set_params('output_formats', '*')\n",
    "lib1i05.run(\"1\")\n",
    "\n",
    "lib1i07 = ip.Assembly(\"lib1i07\")\n",
    "lib1i07.set_params('project_dir', './') \n",
    "lib1i07.set_params('raw_fastq_path', './raw/lib1i07.fq.gz.gz') \n",
    "lib1i07.set_params('barcodes_path', './barcodes/lib1i07.txt') \n",
    "lib1i07.set_params('assembly_method', 'denovo+refrence')\n",
    "lib1i07.set_params('refrence_sequence', 'Tzet_genomic.fna')\n",
    "lib1i07.set_params('datatype', 'ddrad')\n",
    "lib1i07.set_params('restriction_overhang', 'TGCAG, CGG') \n",
    "lib1i07.set_params('clust_threshold', '0.9')\n",
    "lib1i07.set_params('mindepth_statistical', '6')\n",
    "lib1i07.set_params('mindepth_majrule', '6')\n",
    "lib1i07.set_params('filter_adapters', '1')\n",
    "lib1i07.set_params('max_SNPs_locus', '20, 30')\n",
    "lib1i07.set_params('output_formats', '*')\n",
    "lib1i07.run(\"1\")\n",
    "\n",
    "lib1i01 = ip.Assembly(\"lib1i01\")\n",
    "lib1i01.set_params('project_dir', './') \n",
    "lib1i01.set_params('raw_fastq_path', './raw/lib1i01.fq.gz.gz') \n",
    "lib1i01.set_params('barcodes_path', './barcodes/lib1i01.txt') \n",
    "lib1i01.set_params('assembly_method', 'denovo+refrence')\n",
    "lib1i01.set_params('refrence_sequence', 'Tzet_genomic.fna')\n",
    "lib1i01.set_params('datatype', 'ddrad')\n",
    "lib1i01.set_params('restriction_overhang', 'TGCAG, CGG') \n",
    "lib1i01.set_params('clust_threshold', '0.9')\n",
    "lib1i01.set_params('mindepth_statistical', '6')\n",
    "lib1i01.set_params('mindepth_majrule', '6')\n",
    "lib1i01.set_params('filter_adapters', '1')\n",
    "lib1i01.set_params('max_SNPs_locus', '20, 30')\n",
    "lib1i01.set_params('output_formats', '*')\n",
    "lib1i01.run(\"1\")\n",
    "\n",
    "lib1i02 = ip.Assembly(\"lib1i02\")\n",
    "lib1i02.set_params('project_dir', './') \n",
    "lib1i02.set_params('raw_fastq_path', './raw/lib1i02.fq.gz.gz') \n",
    "lib1i02.set_params('barcodes_path', './barcodes/lib1i02.txt') \n",
    "lib1i02.set_params('assembly_method', 'denovo+refrence')\n",
    "lib1i02.set_params('refrence_sequence', 'Tzet_genomic.fna')\n",
    "lib1i02.set_params('datatype', 'ddrad')\n",
    "lib1i02.set_params('restriction_overhang', 'TGCAG, CGG') \n",
    "lib1i02.set_params('clust_threshold', '0.9')\n",
    "lib1i02.set_params('mindepth_statistical', '6')\n",
    "lib1i02.set_params('mindepth_majrule', '6')\n",
    "lib1i02.set_params('filter_adapters', '1')\n",
    "lib1i02.set_params('max_SNPs_locus', '20, 30')\n",
    "lib1i02.set_params('output_formats', '*')\n",
    "lib1i02.run(\"1\")\n",
    "\n",
    "lib2i06 = ip.Assembly(\"lib2i06\")\n",
    "lib2i06.set_params('project_dir', './') \n",
    "lib2i06.set_params('raw_fastq_path', './raw/lib2i06.fq.gz /*.gz') \n",
    "lib2i06.set_params('barcodes_path', './barcodes/lib2i06.txt') \n",
    "lib2i06.set_params('assembly_method', 'denovo+refrence')\n",
    "lib2i06.set_params('refrence_sequence', 'Tzet_genomic.fna')\n",
    "lib2i06.set_params('datatype', 'ddrad')\n",
    "lib2i06.set_params('restriction_overhang', 'TGCAG, CGG') \n",
    "lib2i06.set_params('clust_threshold', '0.9')\n",
    "lib2i06.set_params('mindepth_statistical', '6')\n",
    "lib2i06.set_params('mindepth_majrule', '6')\n",
    "lib2i06.set_params('filter_adapters', '1')\n",
    "lib2i06.set_params('max_SNPs_locus', '20, 30')\n",
    "lib2i06.set_params('output_formats', '*')\n",
    "lib2i06.run(\"1\")\n",
    "\n",
    "lib2i12 = ip.Assembly(\"lib2i12\")\n",
    "lib2i12.set_params('project_dir', './') \n",
    "lib2i12.set_params('raw_fastq_path', './raw/lib2i12.fq.gz.gz') \n",
    "lib2i12.set_params('barcodes_path', './barcodes/lib2i12.txt') \n",
    "lib2i12.set_params('assembly_method', 'denovo+refrence')\n",
    "lib2i12.set_params('refrence_sequence', 'Tzet_genomic.fna')\n",
    "lib2i12.set_params('datatype', 'ddrad')\n",
    "lib2i12.set_params('restriction_overhang', 'TGCAG, CGG') \n",
    "lib2i12.set_params('clust_threshold', '0.9')\n",
    "lib2i12.set_params('mindepth_statistical', '6')\n",
    "lib2i12.set_params('mindepth_majrule', '6')\n",
    "lib2i12.set_params('filter_adapters', '1')\n",
    "lib2i12.set_params('max_SNPs_locus', '20, 30')\n",
    "lib2i12.set_params('output_formats', '*')\n",
    "lib2i12.run(\"1\")\n",
    "\n",
    "lib2i03 = ip.Assembly(\"lib2i03\")\n",
    "lib2i03.set_params('project_dir', './') \n",
    "lib2i03.set_params('raw_fastq_path', './raw/lib2i03.fq.gz.gz') \n",
    "lib2i03.set_params('barcodes_path', './barcodes/lib2i03.txt') \n",
    "lib2i03.set_params('assembly_method', 'denovo+refrence')\n",
    "lib2i03.set_params('refrence_sequence', 'Tzet_genomic.fna')\n",
    "lib2i03.set_params('datatype', 'ddrad')\n",
    "lib2i03.set_params('restriction_overhang', 'TGCAG, CGG') \n",
    "lib2i03.set_params('clust_threshold', '0.9')\n",
    "lib2i03.set_params('mindepth_statistical', '6')\n",
    "lib2i03.set_params('mindepth_majrule', '6')\n",
    "lib2i03.set_params('filter_adapters', '1')\n",
    "lib2i03.set_params('max_SNPs_locus', '20, 30')\n",
    "lib2i03.set_params('output_formats', '*')\n",
    "lib2i03.run(\"1\")\n",
    "\n",
    "fulldata = ip.merge(\"fulldata\", [lib1i06,lib1i12,lib1i03,lib1i04,lib1i05,lib1i07,lib1i01,lib1i02,lib2i06,lib2i12,lib2i03])\n",
    "\n",
    "fulldata.run(\"2\")\n",
    "\n"
   ]
  },
  {
   "cell_type": "markdown",
   "metadata": {},
   "source": [
    "## Branch Assembly & Initial Data Quality Check\n",
    "At this point, you have the choice to branch the assembly. which might be good for manipulating parameters. For example you may want to see which parameters provide the best coverage.<br>\n",
    "    for example, you may want to run: `fulldata.run(\"2\")` first <br>\n",
    "    then check the stats on your data with `fulldata.stats`<Br>\n",
    "    then run your dataset with further steps: `fulldata.run(\"3456\")`<br>\n",
    "###### Here we want to make sure this min_sample_locus scales. <Br>\n",
    "If we only had 2 lanes, this might be reasonable. BUT we will end up with a lot of missing data. So we want to run our min_samples_locus proportional to our dataset(IE I have 130 samples, and may want to use 50 at the low end, and 100 at the high end. That is what this step is for.<br>\n",
    "<br>\n",
    "For example, we could check the coverage by changing the min_sample_locus parameter in two seperate runs<br>\n",
    "`## create a branch for outputs with min_samples = 4 (lots of missing data)`<br>\n",
    "`min4 = fulldata.branch(\"min4\")`<br>\n",
    "`min4.set_params(\"min_samples_locus\", 4)`<br>\n",
    "`min4.run(\"7\")`<br>\n",
    "\n",
    "`## create a branch for outputs with min_samples = 13 (no missing data)`<br>\n",
    "`min13 = fulldata.branch(\"min13\")`<br>\n",
    "`min13.set_params(\"min_samples_locus\", 13)`<br>\n",
    "`min13.run(\"7\")`<br>\n",
    "\n",
    "\n",
    "### Final Stats\n",
    "we can view the final stats of each step to see which we would want to use.<br>\n",
    "`min13.stats`<br><br>\n",
    "Or we can call the stats of specific steps to see which had the most coverage.<br>\n",
    "`min4.stats_dfs.s7_samples`<br>\n",
    "`min13.stats_dfs.s7_samples`<br>"
   ]
  },
  {
   "cell_type": "markdown",
   "metadata": {},
   "source": [
    "# Check data quality\n",
    "From here, we can begin to quality check our data. We want to check our analysis, due to varying lenghts of reads, and randomly selecting SNP's we may not maintain the Min# of samples per locus in our output (param #21 we discussed previously). Even though we compared the coverage, we want to make sure we have N loci reported in the *ipyrad* stats. This code comes from the Allenrolfea_Analysis_pipeline linked at the start above."
   ]
  },
  {
   "cell_type": "code",
   "execution_count": 23,
   "metadata": {},
   "outputs": [
    {
     "ename": "ImportError",
     "evalue": "No module named seaborn",
     "output_type": "error",
     "traceback": [
      "\u001b[0;31m\u001b[0m",
      "\u001b[0;31mImportError\u001b[0mTraceback (most recent call last)",
      "\u001b[0;32m<ipython-input-23-ebd368a43cf9>\u001b[0m in \u001b[0;36m<module>\u001b[0;34m()\u001b[0m\n\u001b[1;32m      1\u001b[0m \u001b[0;32mimport\u001b[0m \u001b[0mpandas\u001b[0m \u001b[0;32mas\u001b[0m \u001b[0mpd\u001b[0m\u001b[0;34m\u001b[0m\u001b[0m\n\u001b[0;32m----> 2\u001b[0;31m \u001b[0;32mimport\u001b[0m \u001b[0mseaborn\u001b[0m \u001b[0;32mas\u001b[0m \u001b[0msns\u001b[0m\u001b[0;34m\u001b[0m\u001b[0m\n\u001b[0m\u001b[1;32m      3\u001b[0m \u001b[0;31m#the ustr file has N samples and 2 lines per sample check the number expected rows, and loci.\u001b[0m\u001b[0;34m\u001b[0m\u001b[0;34m\u001b[0m\u001b[0m\n\u001b[1;32m      4\u001b[0m \u001b[0;31m#ipyrad reported Nloci and we have Nsamples\u001b[0m\u001b[0;34m\u001b[0m\u001b[0;34m\u001b[0m\u001b[0m\n\u001b[1;32m      5\u001b[0m \u001b[0mmy_ustr\u001b[0m \u001b[0;34m=\u001b[0m\u001b[0mpd\u001b[0m\u001b[0;34m.\u001b[0m\u001b[0mread_csv\u001b[0m\u001b[0;34m(\u001b[0m\u001b[0;34m'min13.ustr'\u001b[0m\u001b[0;34m)\u001b[0m\u001b[0;34m\u001b[0m\u001b[0m\n",
      "\u001b[0;31mImportError\u001b[0m: No module named seaborn"
     ]
    }
   ],
   "source": [
    "import pandas as pd\n",
    "import seaborn as sns\n",
    "import numpy as np\n",
    "#the ustr file has N samples and 2 lines per sample check the number expected rows, and loci.\n",
    "#ipyrad reported Nloci and we have Nsamples\n",
    "my_ustr =pd.read_csv('min13.ustr')\n",
    "print(my_ustr.shape) # should equal Nsamples*2 and Nloci. ex:(Nsamples*2,Nloci)"
   ]
  },
  {
   "cell_type": "markdown",
   "metadata": {},
   "source": [
    "# Hypothesis testing... \n",
    "Hypothesis_0: We expect populations in the tropics to be patchy (*source*)<br>\n",
    "**null_0**: no population structure, there is admixture across all sites, one large population<br>\n",
    "**alt_0.0**: Isolation by distance, one large pop with sub populations<br>\n",
    "**alt1_0.1**: Isolation by environment, there are multiple populations (creeks determine geneflow, individuals in a creek are more related than individuals between creeks)<br><br>\n",
    "\n",
    "Hypothesis_1: We are uncertain about the taxonomy of the published T.zeteki genome <br>\n",
    "**null_1.0**: The published T.zeteki genome is T. zeteki<br>\n",
    "**alt_1.0**: The published T.zeteki genome is likely a different species<br><br>\n",
    "    Test this hypothesis by building a phylogeny with the 6 random T.fov and 5 T.zet a insilico digested published T.zet genome<br>\n",
    "        THIS COULD HAVE AN INTERESTING COALESCENT STORY HERE, WE KNOW THAT PANAMA FORMED ~15-8MYA <br>\n",
    "        WHAT CONSEQUENCES DOES THAT HAVE FOR THESE SIBILING SPECIES!?<br><br>\n",
    "Hypothesis2: Parasitoid wasps have some selective pressure on their hosts (*source*)<br> \n",
    "**nul2**: ... something about selective pressures of parasitoid wasps?\n",
    "<br><br>\n",
    "***there is another hypothesis to test, think about it some more***\n",
    "<br><br>\n",
    "## find interesting loci, and do a literature search to see if we know the function of them yet!\n",
    "we can use HWE... in poppr, we can extract a list of loci we know is not in HWE and explore that dataset... somehow."
   ]
  },
  {
   "cell_type": "markdown",
   "metadata": {},
   "source": [
    "# Data Analysis"
   ]
  },
  {
   "cell_type": "markdown",
   "metadata": {},
   "source": [
    "## RAxML tree\n",
    "Need to test RAxML tree and see if we can find a way to partition our data... `MAGNET` shell scripts might solve this! If we can get it working..."
   ]
  },
  {
   "cell_type": "markdown",
   "metadata": {},
   "source": [
    "## tetrad-- quartet tree inference\n",
    "much like SVDquartets"
   ]
  },
  {
   "cell_type": "markdown",
   "metadata": {},
   "source": [
    "## Coalescent analysis?\n",
    "... biogeogrphy here though..."
   ]
  },
  {
   "cell_type": "markdown",
   "metadata": {},
   "source": [
    "### *structure* analysis\n",
    "[see ipyrad documentation](https://nbviewer.jupyter.org/github/dereneaton/ipyrad/blob/master/tests/cookbook-structure-pedicularis.ipynb)\n",
    "#### input and output file locations\n",
    "#### create *structure* class object\n",
    "#### set parameters for *structure* object\n",
    "#### submit job on the cluster\n",
    "#### summarize replicates with clump\n",
    "#### calculate the best K and test for convergence\n",
    "#### create structure plot"
   ]
  },
  {
   "cell_type": "markdown",
   "metadata": {},
   "source": [
    "## See { notebook name } for further R analysis!\n",
    "1. test genetic distance by geographic distance\n",
    "2. map samples (see.... ???)\n",
    "3. check HWE (poppr & adagenet)"
   ]
  },
  {
   "cell_type": "markdown",
   "metadata": {},
   "source": [
    "#### Map Samples\n",
    "May use Python, but we have a pretty straightforward way of doing this in R right now. This will be based off clusters/k values, if any, and mapping those. "
   ]
  },
  {
   "cell_type": "markdown",
   "metadata": {},
   "source": [
    "## Explore admixture\n",
    "using TREEMIX & ABBA-BABA admixture inference"
   ]
  },
  {
   "cell_type": "code",
   "execution_count": null,
   "metadata": {
    "collapsed": true
   },
   "outputs": [],
   "source": []
  }
 ],
 "metadata": {
  "kernelspec": {
   "display_name": "Python 2",
   "language": "python",
   "name": "python2"
  },
  "language_info": {
   "codemirror_mode": {
    "name": "ipython",
    "version": 2
   },
   "file_extension": ".py",
   "mimetype": "text/x-python",
   "name": "python",
   "nbconvert_exporter": "python",
   "pygments_lexer": "ipython2",
   "version": "2.7.13"
  }
 },
 "nbformat": 4,
 "nbformat_minor": 2
}
