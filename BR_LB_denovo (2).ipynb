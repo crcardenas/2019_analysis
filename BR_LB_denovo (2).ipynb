{
 "cells": [
  {
   "cell_type": "code",
   "execution_count": 24,
   "metadata": {},
   "outputs": [
    {
     "name": "stdout",
     "output_type": "stream",
     "text": [
      "ipyparallelversion is 6.0.2\n",
      "MPI2 has 40 cores\n"
     ]
    }
   ],
   "source": [
    "import ipyparallel as ipp\n",
    "print 'ipyparallelversion is', ipp.__version__\n",
    "mpi2 = ipp.Client(profile=\"MPI2\")\n",
    "print 'MPI2 has',len(mpi2), 'cores'"
   ]
  },
  {
   "cell_type": "code",
   "execution_count": 3,
   "metadata": {},
   "outputs": [
    {
     "name": "stdout",
     "output_type": "stream",
     "text": [
      "0.7.28\n"
     ]
    }
   ],
   "source": [
    "#requires ipyrad\n",
    "import ipyrad as ip\n",
    "print ip.__version__"
   ]
  },
  {
   "cell_type": "markdown",
   "metadata": {},
   "source": [
    "# We are going to make a dataset of the T.zet samples an T.sp.n to compare\n",
    "BR samples are:<br>\n",
    "`CC269`<br>\n",
    "`CC270`<br>\n",
    "`CC271`<br>\n",
    "`CC272`<br>\n",
    "`CC273`<br>\n",
    "<br>\n",
    "LB samples are:<br>\n",
    "`CC268`<br>\n",
    "`CC191`<br>\n",
    "`CC226`<br>\n",
    "`CC154`<br>\n",
    "`CC178`<br>\n",
    "<br>"
   ]
  },
  {
   "cell_type": "code",
   "execution_count": 4,
   "metadata": {},
   "outputs": [
    {
     "name": "stdout",
     "output_type": "stream",
     "text": [
      "New Assembly: BR_LB\n",
      "0   assembly_name               BR_LB                                        \n",
      "1   project_dir                 ./                                           \n",
      "2   raw_fastq_path                                                           \n",
      "3   barcodes_path                                                            \n",
      "4   sorted_fastq_path                                                        \n",
      "5   assembly_method             denovo                                       \n",
      "6   reference_sequence                                                       \n",
      "7   datatype                    rad                                          \n",
      "8   restriction_overhang        ('TGCAG', '')                                \n",
      "9   max_low_qual_bases          5                                            \n",
      "10  phred_Qscore_offset         33                                           \n",
      "11  mindepth_statistical        6                                            \n",
      "12  mindepth_majrule            6                                            \n",
      "13  maxdepth                    10000                                        \n",
      "14  clust_threshold             0.85                                         \n",
      "15  max_barcode_mismatch        0                                            \n",
      "16  filter_adapters             0                                            \n",
      "17  filter_min_trim_len         35                                           \n",
      "18  max_alleles_consens         2                                            \n",
      "19  max_Ns_consens              (5, 5)                                       \n",
      "20  max_Hs_consens              (8, 8)                                       \n",
      "21  min_samples_locus           4                                            \n",
      "22  max_SNPs_locus              (20, 20)                                     \n",
      "23  max_Indels_locus            (8, 8)                                       \n",
      "24  max_shared_Hs_locus         0.5                                          \n",
      "25  trim_reads                  (0, 0, 0, 0)                                 \n",
      "26  trim_loci                   (0, 0, 0, 0)                                 \n",
      "27  output_formats              ['p', 's', 'v']                              \n",
      "28  pop_assign_file                                                          \n"
     ]
    }
   ],
   "source": [
    "BR_LB = ip.Assembly(\"BR_LB\")\n",
    "BR_LB.get_params()"
   ]
  },
  {
   "cell_type": "markdown",
   "metadata": {},
   "source": [
    "# parameters\n",
    "We are running without the genome, with a lower cluster threshold (80%), and minimum samples per loci (2). We will create a branch after step 1 to come back to these variables."
   ]
  },
  {
   "cell_type": "code",
   "execution_count": 5,
   "metadata": {},
   "outputs": [
    {
     "name": "stdout",
     "output_type": "stream",
     "text": [
      "0   assembly_name               BR_LB                                        \n",
      "1   project_dir                 /fs/project/adams.1970/cardenas.61/2019_analysis/BR_LB_dir\n",
      "2   raw_fastq_path                                                           \n",
      "3   barcodes_path                                                            \n",
      "4   sorted_fastq_path           /fs/project/adams.1970/cardenas.61/2019_analysis/BR_LB_samples/*.fastq.gz\n",
      "5   assembly_method             denovo                                       \n",
      "6   reference_sequence                                                       \n",
      "7   datatype                    pairddrad                                    \n",
      "8   restriction_overhang        ('TGCAG', 'CGG')                             \n",
      "9   max_low_qual_bases          5                                            \n",
      "10  phred_Qscore_offset         33                                           \n",
      "11  mindepth_statistical        6                                            \n",
      "12  mindepth_majrule            6                                            \n",
      "13  maxdepth                    10000                                        \n",
      "14  clust_threshold             0.8                                          \n",
      "15  max_barcode_mismatch        0                                            \n",
      "16  filter_adapters             2                                            \n",
      "17  filter_min_trim_len         50                                           \n",
      "18  max_alleles_consens         2                                            \n",
      "19  max_Ns_consens              (5, 5)                                       \n",
      "20  max_Hs_consens              (8, 8)                                       \n",
      "21  min_samples_locus           2                                            \n",
      "22  max_SNPs_locus              (20, 30)                                     \n",
      "23  max_Indels_locus            (8, 8)                                       \n",
      "24  max_shared_Hs_locus         0.5                                          \n",
      "25  trim_reads                  (0, 0, 0, 0)                                 \n",
      "26  trim_loci                   (0, 0, 0, 0)                                 \n",
      "27  output_formats              ['G', 'a', 'g', 'k', 'm', 'l', 'n', 'p', 's', 'u', 't', 'v']\n",
      "28  pop_assign_file                                                          \n"
     ]
    }
   ],
   "source": [
    "BR_LB.set_params('sorted_fastq_path', '/fs/project/adams.1970/cardenas.61/2019_analysis/BR_LB_samples/*.fastq.gz')\n",
    "BR_LB.set_params('project_dir', '/fs/project/adams.1970/cardenas.61/2019_analysis/BR_LB_dir') \n",
    "BR_LB.set_params('assembly_method', 'denovo')\n",
    "BR_LB.set_params('restriction_overhang', 'TGCAG, CGG')\n",
    "BR_LB.set_params('datatype', 'pairddrad')\n",
    "BR_LB.set_params('clust_threshold', '0.8')\n",
    "BR_LB.set_params('mindepth_statistical', '6')\n",
    "BR_LB.set_params('mindepth_majrule', '6')\n",
    "BR_LB.set_params('min_samples_locus', '2')\n",
    "BR_LB.set_params('filter_min_trim_len', '50')\n",
    "BR_LB.set_params('filter_adapters', '2')\n",
    "BR_LB.set_params('max_SNPs_locus', '20, 30')\n",
    "BR_LB.set_params('output_formats', '*')\n",
    "BR_LB.get_params()"
   ]
  },
  {
   "cell_type": "code",
   "execution_count": 6,
   "metadata": {},
   "outputs": [
    {
     "name": "stdout",
     "output_type": "stream",
     "text": [
      "0   assembly_name               BR_LB                                        \n",
      "1   project_dir                 /fs/project/adams.1970/cardenas.61/2019_analysis/BR_LB_dir\n",
      "2   raw_fastq_path                                                           \n",
      "3   barcodes_path                                                            \n",
      "4   sorted_fastq_path           /fs/project/adams.1970/cardenas.61/2019_analysis/BR_LB_samples/*.fastq.gz\n",
      "5   assembly_method             denovo                                       \n",
      "6   reference_sequence                                                       \n",
      "7   datatype                    pairddrad                                    \n",
      "8   restriction_overhang        ('TGCAG', 'CGG')                             \n",
      "9   max_low_qual_bases          5                                            \n",
      "10  phred_Qscore_offset         33                                           \n",
      "11  mindepth_statistical        6                                            \n",
      "12  mindepth_majrule            6                                            \n",
      "13  maxdepth                    10000                                        \n",
      "14  clust_threshold             0.8                                          \n",
      "15  max_barcode_mismatch        0                                            \n",
      "16  filter_adapters             2                                            \n",
      "17  filter_min_trim_len         50                                           \n",
      "18  max_alleles_consens         2                                            \n",
      "19  max_Ns_consens              (5, 5)                                       \n",
      "20  max_Hs_consens              (8, 8)                                       \n",
      "21  min_samples_locus           2                                            \n",
      "22  max_SNPs_locus              (20, 30)                                     \n",
      "23  max_Indels_locus            (8, 8)                                       \n",
      "24  max_shared_Hs_locus         0.5                                          \n",
      "25  trim_reads                  (0, 0, 0, 0)                                 \n",
      "26  trim_loci                   (0, 0, 0, 0)                                 \n",
      "27  output_formats              ['G', 'a', 'g', 'k', 'm', 'l', 'n', 'p', 's', 'u', 't', 'v']\n",
      "28  pop_assign_file                                                          \n"
     ]
    }
   ],
   "source": [
    "BR_LB.get_params()"
   ]
  },
  {
   "cell_type": "code",
   "execution_count": 7,
   "metadata": {},
   "outputs": [
    {
     "name": "stdout",
     "output_type": "stream",
     "text": [
      "Assembly: BR_LB\n",
      "[####################] 100%  loading reads         | 0:00:07 | s1 | \n"
     ]
    }
   ],
   "source": [
    "BR_LB.run(\"1\",ipyclient=mpi2)"
   ]
  },
  {
   "cell_type": "markdown",
   "metadata": {},
   "source": [
    "## set up branches"
   ]
  },
  {
   "cell_type": "code",
   "execution_count": 9,
   "metadata": {
    "collapsed": true
   },
   "outputs": [],
   "source": [
    "#key branch is branch1\n",
    "branch1 = BR_LB.branch(\"branch1\")\n",
    "\n",
    "#branch here so we can test different cluster threshholds\n",
    "clust80 = branch1.branch(\"clust80\")\n",
    "clust85 = branch1.branch(\"clust85\")\n",
    "clust90 = branch1.branch(\"clust90\")\n",
    "\n",
    "#we will then branch again so we can test using a refrence \n",
    "reference = branch1.branch(\"reference\")\n",
    "\n",
    "#again for different clustering threshholds\n",
    "branch_reference = reference.branch(\"branch_reference\") #key branch\n",
    "\n",
    "reference_clust80 = branch_reference.branch(\"reference_clust80\")\n",
    "reference_clust85 = branch_reference.branch(\"reference_clust85\")\n",
    "reference_clust90 = branch_reference.branch(\"reference_clust90\")\n",
    "\n"
   ]
  },
  {
   "cell_type": "markdown",
   "metadata": {},
   "source": [
    "## set up parameters for these branches"
   ]
  },
  {
   "cell_type": "code",
   "execution_count": 15,
   "metadata": {
    "collapsed": true
   },
   "outputs": [],
   "source": [
    "clust80.set_params('clust_threshold', '0.80')\n",
    "clust85.set_params('clust_threshold', '0.85')\n",
    "clust90.set_params('clust_threshold', '0.90')\n",
    "\n",
    "reference.set_params('assembly_method', 'denovo+reference')\n",
    "reference.set_params('reference_sequence', '/fs/project/adams.1970/cardenas.61/2019_analysis/Tzet_genomic.fna')\n",
    "\n",
    "reference_clust80.set_params('clust_threshold', '0.80')\n",
    "reference_clust85.set_params('clust_threshold', '0.85')\n",
    "reference_clust90.set_params('clust_threshold', '0.90')"
   ]
  },
  {
   "cell_type": "markdown",
   "metadata": {},
   "source": [
    "#### Check parameters clust80"
   ]
  },
  {
   "cell_type": "code",
   "execution_count": 14,
   "metadata": {},
   "outputs": [
    {
     "name": "stdout",
     "output_type": "stream",
     "text": [
      "0   assembly_name               clust80                                      \n",
      "1   project_dir                 /fs/project/adams.1970/cardenas.61/2019_analysis/BR_LB_dir\n",
      "2   raw_fastq_path                                                           \n",
      "3   barcodes_path                                                            \n",
      "4   sorted_fastq_path           /fs/project/adams.1970/cardenas.61/2019_analysis/BR_LB_samples/*.fastq.gz\n",
      "5   assembly_method             denovo                                       \n",
      "6   reference_sequence                                                       \n",
      "7   datatype                    pairddrad                                    \n",
      "8   restriction_overhang        ('TGCAG', 'CGG')                             \n",
      "9   max_low_qual_bases          5                                            \n",
      "10  phred_Qscore_offset         33                                           \n",
      "11  mindepth_statistical        6                                            \n",
      "12  mindepth_majrule            6                                            \n",
      "13  maxdepth                    10000                                        \n",
      "14  clust_threshold             0.8                                          \n",
      "15  max_barcode_mismatch        0                                            \n",
      "16  filter_adapters             2                                            \n",
      "17  filter_min_trim_len         50                                           \n",
      "18  max_alleles_consens         2                                            \n",
      "19  max_Ns_consens              (5, 5)                                       \n",
      "20  max_Hs_consens              (8, 8)                                       \n",
      "21  min_samples_locus           2                                            \n",
      "22  max_SNPs_locus              (20, 30)                                     \n",
      "23  max_Indels_locus            (8, 8)                                       \n",
      "24  max_shared_Hs_locus         0.5                                          \n",
      "25  trim_reads                  (0, 0, 0, 0)                                 \n",
      "26  trim_loci                   (0, 0, 0, 0)                                 \n",
      "27  output_formats              ['G', 'a', 'g', 'k', 'm', 'l', 'n', 'p', 's', 'u', 't', 'v']\n",
      "28  pop_assign_file                                                          \n"
     ]
    }
   ],
   "source": [
    "clust80.get_params()"
   ]
  },
  {
   "cell_type": "markdown",
   "metadata": {},
   "source": [
    "#### Check parameters clust85"
   ]
  },
  {
   "cell_type": "code",
   "execution_count": 16,
   "metadata": {},
   "outputs": [
    {
     "name": "stdout",
     "output_type": "stream",
     "text": [
      "0   assembly_name               clust85                                      \n",
      "1   project_dir                 /fs/project/adams.1970/cardenas.61/2019_analysis/BR_LB_dir\n",
      "2   raw_fastq_path                                                           \n",
      "3   barcodes_path                                                            \n",
      "4   sorted_fastq_path           /fs/project/adams.1970/cardenas.61/2019_analysis/BR_LB_samples/*.fastq.gz\n",
      "5   assembly_method             denovo                                       \n",
      "6   reference_sequence                                                       \n",
      "7   datatype                    pairddrad                                    \n",
      "8   restriction_overhang        ('TGCAG', 'CGG')                             \n",
      "9   max_low_qual_bases          5                                            \n",
      "10  phred_Qscore_offset         33                                           \n",
      "11  mindepth_statistical        6                                            \n",
      "12  mindepth_majrule            6                                            \n",
      "13  maxdepth                    10000                                        \n",
      "14  clust_threshold             0.85                                         \n",
      "15  max_barcode_mismatch        0                                            \n",
      "16  filter_adapters             2                                            \n",
      "17  filter_min_trim_len         50                                           \n",
      "18  max_alleles_consens         2                                            \n",
      "19  max_Ns_consens              (5, 5)                                       \n",
      "20  max_Hs_consens              (8, 8)                                       \n",
      "21  min_samples_locus           2                                            \n",
      "22  max_SNPs_locus              (20, 30)                                     \n",
      "23  max_Indels_locus            (8, 8)                                       \n",
      "24  max_shared_Hs_locus         0.5                                          \n",
      "25  trim_reads                  (0, 0, 0, 0)                                 \n",
      "26  trim_loci                   (0, 0, 0, 0)                                 \n",
      "27  output_formats              ['G', 'a', 'g', 'k', 'm', 'l', 'n', 'p', 's', 'u', 't', 'v']\n",
      "28  pop_assign_file                                                          \n"
     ]
    }
   ],
   "source": [
    "clust85.get_params()"
   ]
  },
  {
   "cell_type": "markdown",
   "metadata": {},
   "source": [
    "#### Check parameters clust90"
   ]
  },
  {
   "cell_type": "code",
   "execution_count": 17,
   "metadata": {},
   "outputs": [
    {
     "name": "stdout",
     "output_type": "stream",
     "text": [
      "0   assembly_name               clust90                                      \n",
      "1   project_dir                 /fs/project/adams.1970/cardenas.61/2019_analysis/BR_LB_dir\n",
      "2   raw_fastq_path                                                           \n",
      "3   barcodes_path                                                            \n",
      "4   sorted_fastq_path           /fs/project/adams.1970/cardenas.61/2019_analysis/BR_LB_samples/*.fastq.gz\n",
      "5   assembly_method             denovo                                       \n",
      "6   reference_sequence                                                       \n",
      "7   datatype                    pairddrad                                    \n",
      "8   restriction_overhang        ('TGCAG', 'CGG')                             \n",
      "9   max_low_qual_bases          5                                            \n",
      "10  phred_Qscore_offset         33                                           \n",
      "11  mindepth_statistical        6                                            \n",
      "12  mindepth_majrule            6                                            \n",
      "13  maxdepth                    10000                                        \n",
      "14  clust_threshold             0.9                                          \n",
      "15  max_barcode_mismatch        0                                            \n",
      "16  filter_adapters             2                                            \n",
      "17  filter_min_trim_len         50                                           \n",
      "18  max_alleles_consens         2                                            \n",
      "19  max_Ns_consens              (5, 5)                                       \n",
      "20  max_Hs_consens              (8, 8)                                       \n",
      "21  min_samples_locus           2                                            \n",
      "22  max_SNPs_locus              (20, 30)                                     \n",
      "23  max_Indels_locus            (8, 8)                                       \n",
      "24  max_shared_Hs_locus         0.5                                          \n",
      "25  trim_reads                  (0, 0, 0, 0)                                 \n",
      "26  trim_loci                   (0, 0, 0, 0)                                 \n",
      "27  output_formats              ['G', 'a', 'g', 'k', 'm', 'l', 'n', 'p', 's', 'u', 't', 'v']\n",
      "28  pop_assign_file                                                          \n"
     ]
    }
   ],
   "source": [
    "clust90.get_params()"
   ]
  },
  {
   "cell_type": "markdown",
   "metadata": {},
   "source": [
    "#### Check Parameters reference"
   ]
  },
  {
   "cell_type": "code",
   "execution_count": 18,
   "metadata": {},
   "outputs": [
    {
     "name": "stdout",
     "output_type": "stream",
     "text": [
      "0   assembly_name               reference                                    \n",
      "1   project_dir                 /fs/project/adams.1970/cardenas.61/2019_analysis/BR_LB_dir\n",
      "2   raw_fastq_path                                                           \n",
      "3   barcodes_path                                                            \n",
      "4   sorted_fastq_path           /fs/project/adams.1970/cardenas.61/2019_analysis/BR_LB_samples/*.fastq.gz\n",
      "5   assembly_method             denovo+reference                             \n",
      "6   reference_sequence          /fs/project/adams.1970/cardenas.61/2019_analysis/Tzet_genomic.fna\n",
      "7   datatype                    pairddrad                                    \n",
      "8   restriction_overhang        ('TGCAG', 'CGG')                             \n",
      "9   max_low_qual_bases          5                                            \n",
      "10  phred_Qscore_offset         33                                           \n",
      "11  mindepth_statistical        6                                            \n",
      "12  mindepth_majrule            6                                            \n",
      "13  maxdepth                    10000                                        \n",
      "14  clust_threshold             0.8                                          \n",
      "15  max_barcode_mismatch        0                                            \n",
      "16  filter_adapters             2                                            \n",
      "17  filter_min_trim_len         50                                           \n",
      "18  max_alleles_consens         2                                            \n",
      "19  max_Ns_consens              (5, 5)                                       \n",
      "20  max_Hs_consens              (8, 8)                                       \n",
      "21  min_samples_locus           2                                            \n",
      "22  max_SNPs_locus              (20, 30)                                     \n",
      "23  max_Indels_locus            (8, 8)                                       \n",
      "24  max_shared_Hs_locus         0.5                                          \n",
      "25  trim_reads                  (0, 0, 0, 0)                                 \n",
      "26  trim_loci                   (0, 0, 0, 0)                                 \n",
      "27  output_formats              ['G', 'a', 'g', 'k', 'm', 'l', 'n', 'p', 's', 'u', 't', 'v']\n",
      "28  pop_assign_file                                                          \n"
     ]
    }
   ],
   "source": [
    "reference.get_params()"
   ]
  },
  {
   "cell_type": "markdown",
   "metadata": {
    "collapsed": true
   },
   "source": [
    "#### Check parameters reference_clust80"
   ]
  },
  {
   "cell_type": "code",
   "execution_count": 19,
   "metadata": {},
   "outputs": [
    {
     "name": "stdout",
     "output_type": "stream",
     "text": [
      "0   assembly_name               reference_clust80                            \n",
      "1   project_dir                 /fs/project/adams.1970/cardenas.61/2019_analysis/BR_LB_dir\n",
      "2   raw_fastq_path                                                           \n",
      "3   barcodes_path                                                            \n",
      "4   sorted_fastq_path           /fs/project/adams.1970/cardenas.61/2019_analysis/BR_LB_samples/*.fastq.gz\n",
      "5   assembly_method             denovo                                       \n",
      "6   reference_sequence                                                       \n",
      "7   datatype                    pairddrad                                    \n",
      "8   restriction_overhang        ('TGCAG', 'CGG')                             \n",
      "9   max_low_qual_bases          5                                            \n",
      "10  phred_Qscore_offset         33                                           \n",
      "11  mindepth_statistical        6                                            \n",
      "12  mindepth_majrule            6                                            \n",
      "13  maxdepth                    10000                                        \n",
      "14  clust_threshold             0.8                                          \n",
      "15  max_barcode_mismatch        0                                            \n",
      "16  filter_adapters             2                                            \n",
      "17  filter_min_trim_len         50                                           \n",
      "18  max_alleles_consens         2                                            \n",
      "19  max_Ns_consens              (5, 5)                                       \n",
      "20  max_Hs_consens              (8, 8)                                       \n",
      "21  min_samples_locus           2                                            \n",
      "22  max_SNPs_locus              (20, 30)                                     \n",
      "23  max_Indels_locus            (8, 8)                                       \n",
      "24  max_shared_Hs_locus         0.5                                          \n",
      "25  trim_reads                  (0, 0, 0, 0)                                 \n",
      "26  trim_loci                   (0, 0, 0, 0)                                 \n",
      "27  output_formats              ['G', 'a', 'g', 'k', 'm', 'l', 'n', 'p', 's', 'u', 't', 'v']\n",
      "28  pop_assign_file                                                          \n"
     ]
    }
   ],
   "source": [
    "reference_clust80.get_params()"
   ]
  },
  {
   "cell_type": "markdown",
   "metadata": {
    "collapsed": true
   },
   "source": [
    "#### Check parameters reference_clust85"
   ]
  },
  {
   "cell_type": "code",
   "execution_count": 20,
   "metadata": {},
   "outputs": [
    {
     "name": "stdout",
     "output_type": "stream",
     "text": [
      "0   assembly_name               reference_clust85                            \n",
      "1   project_dir                 /fs/project/adams.1970/cardenas.61/2019_analysis/BR_LB_dir\n",
      "2   raw_fastq_path                                                           \n",
      "3   barcodes_path                                                            \n",
      "4   sorted_fastq_path           /fs/project/adams.1970/cardenas.61/2019_analysis/BR_LB_samples/*.fastq.gz\n",
      "5   assembly_method             denovo                                       \n",
      "6   reference_sequence                                                       \n",
      "7   datatype                    pairddrad                                    \n",
      "8   restriction_overhang        ('TGCAG', 'CGG')                             \n",
      "9   max_low_qual_bases          5                                            \n",
      "10  phred_Qscore_offset         33                                           \n",
      "11  mindepth_statistical        6                                            \n",
      "12  mindepth_majrule            6                                            \n",
      "13  maxdepth                    10000                                        \n",
      "14  clust_threshold             0.85                                         \n",
      "15  max_barcode_mismatch        0                                            \n",
      "16  filter_adapters             2                                            \n",
      "17  filter_min_trim_len         50                                           \n",
      "18  max_alleles_consens         2                                            \n",
      "19  max_Ns_consens              (5, 5)                                       \n",
      "20  max_Hs_consens              (8, 8)                                       \n",
      "21  min_samples_locus           2                                            \n",
      "22  max_SNPs_locus              (20, 30)                                     \n",
      "23  max_Indels_locus            (8, 8)                                       \n",
      "24  max_shared_Hs_locus         0.5                                          \n",
      "25  trim_reads                  (0, 0, 0, 0)                                 \n",
      "26  trim_loci                   (0, 0, 0, 0)                                 \n",
      "27  output_formats              ['G', 'a', 'g', 'k', 'm', 'l', 'n', 'p', 's', 'u', 't', 'v']\n",
      "28  pop_assign_file                                                          \n"
     ]
    }
   ],
   "source": [
    "reference_clust85.get_params()"
   ]
  },
  {
   "cell_type": "markdown",
   "metadata": {
    "collapsed": true
   },
   "source": [
    "#### Check parameters reference_clust90"
   ]
  },
  {
   "cell_type": "code",
   "execution_count": 21,
   "metadata": {},
   "outputs": [
    {
     "name": "stdout",
     "output_type": "stream",
     "text": [
      "0   assembly_name               reference_clust90                            \n",
      "1   project_dir                 /fs/project/adams.1970/cardenas.61/2019_analysis/BR_LB_dir\n",
      "2   raw_fastq_path                                                           \n",
      "3   barcodes_path                                                            \n",
      "4   sorted_fastq_path           /fs/project/adams.1970/cardenas.61/2019_analysis/BR_LB_samples/*.fastq.gz\n",
      "5   assembly_method             denovo                                       \n",
      "6   reference_sequence                                                       \n",
      "7   datatype                    pairddrad                                    \n",
      "8   restriction_overhang        ('TGCAG', 'CGG')                             \n",
      "9   max_low_qual_bases          5                                            \n",
      "10  phred_Qscore_offset         33                                           \n",
      "11  mindepth_statistical        6                                            \n",
      "12  mindepth_majrule            6                                            \n",
      "13  maxdepth                    10000                                        \n",
      "14  clust_threshold             0.9                                          \n",
      "15  max_barcode_mismatch        0                                            \n",
      "16  filter_adapters             2                                            \n",
      "17  filter_min_trim_len         50                                           \n",
      "18  max_alleles_consens         2                                            \n",
      "19  max_Ns_consens              (5, 5)                                       \n",
      "20  max_Hs_consens              (8, 8)                                       \n",
      "21  min_samples_locus           2                                            \n",
      "22  max_SNPs_locus              (20, 30)                                     \n",
      "23  max_Indels_locus            (8, 8)                                       \n",
      "24  max_shared_Hs_locus         0.5                                          \n",
      "25  trim_reads                  (0, 0, 0, 0)                                 \n",
      "26  trim_loci                   (0, 0, 0, 0)                                 \n",
      "27  output_formats              ['G', 'a', 'g', 'k', 'm', 'l', 'n', 'p', 's', 'u', 't', 'v']\n",
      "28  pop_assign_file                                                          \n"
     ]
    }
   ],
   "source": [
    "reference_clust90.get_params()"
   ]
  },
  {
   "cell_type": "markdown",
   "metadata": {},
   "source": [
    "### run up to step 6 where we were having our issues on our original dataset BR_LB"
   ]
  },
  {
   "cell_type": "code",
   "execution_count": 22,
   "metadata": {},
   "outputs": [
    {
     "name": "stdout",
     "output_type": "stream",
     "text": [
      "Assembly: BR_LB\n",
      "[####################] 100%  processing reads      | 0:02:10 | s2 | \n",
      "[####################] 100%  dereplicating         | 0:01:04 | s3 | \n",
      "[####################] 100%  clustering            | 0:08:02 | s3 | \n",
      "[####################] 100%  building clusters     | 0:00:35 | s3 | \n",
      "[####################] 100%  chunking              | 0:00:02 | s3 | \n",
      "[####################] 100%  aligning              | 0:16:01 | s3 | \n",
      "[####################] 100%  concatenating         | 0:00:21 | s3 | \n",
      "[####################] 100%  inferring [H, E]      | 0:00:55 | s4 | \n",
      "[####################] 100%  calculating depths    | 0:00:02 | s5 | \n",
      "[####################] 100%  chunking clusters     | 0:00:02 | s5 | \n",
      "[####################] 100%  consens calling       | 0:00:47 | s5 | \n"
     ]
    }
   ],
   "source": [
    "BR_LB.run(\"2345\",ipyclient=mpi2)"
   ]
  },
  {
   "cell_type": "code",
   "execution_count": null,
   "metadata": {},
   "outputs": [
    {
     "name": "stdout",
     "output_type": "stream",
     "text": [
      "Assembly: BR_LB\n",
      "[####################] 100%  concat/shuffle input  | 0:00:01 | s6 | \n",
      "[####################] 100%  clustering across     | 0:00:07 | s6 | \n",
      "[####################] 100%  building clusters     | 0:00:01 | s6 | \n",
      "[                    ]   0%  aligning clusters     | 2:00:36 | s6 | \n",
      "  Keyboard Interrupt by user\n",
      "\n",
      "warning: ipcluster shutdown and must be restarted\n"
     ]
    }
   ],
   "source": [
    "BR_LB.run(\"6\",ipyclient=mpi2)"
   ]
  },
  {
   "cell_type": "code",
   "execution_count": 25,
   "metadata": {},
   "outputs": [
    {
     "name": "stdout",
     "output_type": "stream",
     "text": [
      "Barro_Colorado_Island_CC269_10297  Plantation_Road_CC178_14808\r\n",
      "Barro_Colorado_Island_CC269_12777  Plantation_Road_CC178_14964\r\n",
      "Barro_Colorado_Island_CC270_11834  Plantation_Road_CC178_15144\r\n",
      "Barro_Colorado_Island_CC270_12632  Plantation_Road_CC178_15454\r\n",
      "Barro_Colorado_Island_CC270_23808  Plantation_Road_CC178_15463\r\n",
      "Bird_Plot_CC191_10143\t\t   Plantation_Road_CC178_2563\r\n",
      "Bird_Plot_CC191_12515\t\t   Plantation_Road_CC178_2608\r\n",
      "Bird_Plot_CC191_17788\t\t   Plantation_Road_CC178_3061\r\n",
      "Bird_Plot_CC191_20834\t\t   Plantation_Road_CC178_4252\r\n",
      "Bird_Plot_CC191_7866\t\t   Plantation_Road_CC178_4925\r\n",
      "branch1.json\t\t\t   Plantation_Road_CC178_6594\r\n",
      "branch_reference.json\t\t   Plantation_Road_CC178_6790\r\n",
      "BR_LB_across\t\t\t   Plantation_Road_CC178_7147\r\n",
      "BR_LB_clust_0.8\t\t\t   Plantation_Road_CC178_8646\r\n",
      "BR_LB_consens\t\t\t   Plantation_Road_CC178_9180\r\n",
      "BR_LB_denovo.ipynb\t\t   reference_clust80.json\r\n",
      "BR_LB_edits\t\t\t   reference_clust85.json\r\n",
      "BR_LB.json\t\t\t   reference_clust90.json\r\n",
      "BR_LB_s1_demultiplex_stats.txt\t   reference.json\r\n",
      "clust80.json\t\t\t   Rio_Mendoza_CC271_11651\r\n",
      "clust85.json\t\t\t   Rio_Mendoza_CC271_12311\r\n",
      "clust90.json\t\t\t   Rio_Mendoza_CC271_2133\r\n",
      "Frijolito_CC226_10055\t\t   Rio_Mendoza_CC271_3826\r\n",
      "Frijolito_CC226_11767\t\t   Rio_Mendoza_CC271_4171\r\n",
      "Frijolito_CC226_11870\t\t   Rio_Mendoza_CC271_468\r\n",
      "Frijolito_CC226_13414\t\t   Rio_Mendoza_CC271_5803\r\n",
      "Frijolito_CC226_13520\t\t   Rio_Mendoza_CC271_5831\r\n",
      "Frijolito_CC226_13571\t\t   Rio_Mendoza_CC271_6222\r\n",
      "Frijolito_CC226_13695\t\t   Rio_Mendoza_CC271_6355\r\n",
      "Frijolito_CC226_13817\t\t   Rio_Mendoza_CC271_8233\r\n",
      "Frijolito_CC226_14379\t\t   Rio_Mendoza_CC271_8377\r\n",
      "Frijolito_CC226_2123\t\t   Rio_Mendoza_CC271_9604\r\n",
      "Frijolito_CC226_2238\t\t   Rio_Mendoza_CC271_9848\r\n",
      "Frijolito_CC226_3418\t\t   Rio_Mendoza_CC272_11929\r\n",
      "Frijolito_CC226_3499\t\t   Rio_Mendoza_CC272_12012\r\n",
      "Frijolito_CC226_3626\t\t   Rio_Mendoza_CC272_12237\r\n",
      "Frijolito_CC226_5163\t\t   Rio_Mendoza_CC272_12465\r\n",
      "Frijolito_CC226_5416\t\t   Rio_Mendoza_CC272_12847\r\n",
      "Frijolito_CC226_6724\t\t   Rio_Mendoza_CC272_14317\r\n",
      "Frijolito_CC226_7009\t\t   Rio_Mendoza_CC272_14356\r\n",
      "Frijolito_CC226_8298\t\t   Rio_Mendoza_CC272_14358\r\n",
      "Frijolito_CC226_8422\t\t   Rio_Mendoza_CC272_14796\r\n",
      "Frijolito_CC226_8487\t\t   Rio_Mendoza_CC272_2656\r\n",
      "Frijolito_CC226_9992\t\t   Rio_Mendoza_CC272_3062\r\n",
      "ipyrad_log.txt\t\t\t   Rio_Mendoza_CC272_498\r\n",
      "La_Seda_CC268_10659\t\t   Rio_Mendoza_CC272_5090\r\n",
      "La_Seda_CC268_10753\t\t   Rio_Mendoza_CC272_5514\r\n",
      "La_Seda_CC268_13539\t\t   Rio_Mendoza_CC272_554\r\n",
      "La_Seda_CC268_13552\t\t   Rio_Mendoza_CC272_7190\r\n",
      "La_Seda_CC268_13637\t\t   Rio_Mendoza_CC272_7239\r\n",
      "La_Seda_CC268_13639\t\t   Rio_Mendoza_CC272_738\r\n",
      "La_Seda_CC268_13982\t\t   Rio_Mendoza_CC272_9934\r\n",
      "La_Seda_CC268_14027\t\t   Rio_Mendoza_CC273_11228\r\n",
      "La_Seda_CC268_1942\t\t   Rio_Mendoza_CC273_11277\r\n",
      "La_Seda_CC268_22\t\t   Rio_Mendoza_CC273_11597\r\n",
      "La_Seda_CC268_2980\t\t   Rio_Mendoza_CC273_11660\r\n",
      "La_Seda_CC268_4777\t\t   Rio_Mendoza_CC273_14971\r\n",
      "La_Seda_CC268_6233\t\t   Rio_Mendoza_CC273_15215\r\n",
      "La_Seda_CC268_7505\t\t   Rio_Mendoza_CC273_15324\r\n",
      "La_Seda_CC268_7734\t\t   Rio_Mendoza_CC273_15452\r\n",
      "La_Seda_CC268_9249\t\t   Rio_Mendoza_CC273_15598\r\n",
      "La_Seda_CC268_9328\t\t   Rio_Mendoza_CC273_15814\r\n",
      "mpi2_9667.ipynb\t\t\t   Rio_Mendoza_CC273_18130\r\n",
      "Plantation_Road_CC178_10570\t   Rio_Mendoza_CC273_18475\r\n",
      "Plantation_Road_CC178_10609\t   Rio_Mendoza_CC273_3650\r\n",
      "Plantation_Road_CC178_11088\t   Rio_Mendoza_CC273_4002\r\n",
      "Plantation_Road_CC178_11252\t   Rio_Mendoza_CC273_4113\r\n",
      "Plantation_Road_CC178_12562\t   Rio_Mendoza_CC273_614\r\n",
      "Plantation_Road_CC178_12804\t   Rio_Mendoza_CC273_7266\r\n",
      "Plantation_Road_CC178_13241\t   Rio_Mendoza_CC273_7414\r\n",
      "Plantation_Road_CC178_13508\t   Rio_Mendoza_CC273_7626\r\n",
      "Plantation_Road_CC178_14541\t   Rio_Mendoza_CC273_7784\r\n",
      "Plantation_Road_CC178_14728\t   Rio_Mendoza_CC273_8088\r\n"
     ]
    }
   ],
   "source": [
    "! ls"
   ]
  },
  {
   "cell_type": "code",
   "execution_count": 28,
   "metadata": {},
   "outputs": [],
   "source": [
    "! cat ipyrad_log.txt"
   ]
  }
 ],
 "metadata": {
  "kernelspec": {
   "display_name": "Python 2",
   "language": "python",
   "name": "python2"
  },
  "language_info": {
   "codemirror_mode": {
    "name": "ipython",
    "version": 2
   },
   "file_extension": ".py",
   "mimetype": "text/x-python",
   "name": "python",
   "nbconvert_exporter": "python",
   "pygments_lexer": "ipython2",
   "version": "2.7.13"
  }
 },
 "nbformat": 4,
 "nbformat_minor": 2
}
