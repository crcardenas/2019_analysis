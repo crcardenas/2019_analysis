{
 "cells": [
  {
   "cell_type": "code",
   "execution_count": 2,
   "metadata": {},
   "outputs": [
    {
     "name": "stdout",
     "output_type": "stream",
     "text": [
      "2019-09-20 11:56:10.863 [IPClusterStart] Created profile dir: u'/home/cardenas.61/.ipython/profile_gd_ipc'\n",
      "2019-09-20 11:56:10.874 [IPClusterStart] Starting ipcluster with [daemon=False]\n",
      "2019-09-20 11:56:10.875 [IPClusterStart] Creating pid file: /home/cardenas.61/.ipython/profile_gd_ipc/pid/ipcluster.pid\n",
      "2019-09-20 11:56:10.876 [IPClusterStart] Starting Controller with LocalControllerLauncher\n",
      "2019-09-20 11:56:11.881 [IPClusterStart] Starting 60 Engines with MPI\n",
      "2019-09-20 11:56:41.886 [IPClusterStart] Engines appear to have started successfully\n",
      "2019-09-20 12:10:28.682 [IPClusterStart] ERROR | IPython cluster: stopping\n",
      "2019-09-20 12:10:28.690 [IPClusterStart] Stopping Engines...\n",
      "2019-09-20 12:10:31.694 [IPClusterStart] Removing pid file: /home/cardenas.61/.ipython/profile_gd_ipc/pid/ipcluster.pid\n"
     ]
    }
   ],
   "source": [
    "! profile=\"gd_ipc\"\n",
    "\n",
    "## Start an ipcluster instance. This server will run until killed.\n",
    "! ipcluster start --n=60 --engines=MPI --ip='*' --profile=gd_ipc"
   ]
  },
  {
   "cell_type": "code",
   "execution_count": null,
   "metadata": {},
   "outputs": [],
   "source": []
  }
 ],
 "metadata": {
  "kernelspec": {
   "display_name": "Python 2",
   "language": "python",
   "name": "python2"
  },
  "language_info": {
   "codemirror_mode": {
    "name": "ipython",
    "version": 2
   },
   "file_extension": ".py",
   "mimetype": "text/x-python",
   "name": "python",
   "nbconvert_exporter": "python",
   "pygments_lexer": "ipython2",
   "version": "2.7.15"
  }
 },
 "nbformat": 4,
 "nbformat_minor": 2
}
